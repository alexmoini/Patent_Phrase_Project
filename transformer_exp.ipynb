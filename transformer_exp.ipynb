{
 "cells": [
  {
   "cell_type": "code",
   "execution_count": 10,
   "metadata": {},
   "outputs": [],
   "source": [
    "from transformer_class import SimilarityModel\n",
    "from data_utils import PhraseDataset\n",
    "from torch.utils.data import DataLoader\n",
    "from transformers import AutoTokenizer\n",
    "import torch\n",
    "bert_pretrained = 'bert-base-uncased'"
   ]
  },
  {
   "cell_type": "markdown",
   "metadata": {},
   "source": [
    "# Set up DataLoaders"
   ]
  },
  {
   "cell_type": "code",
   "execution_count": 11,
   "metadata": {},
   "outputs": [],
   "source": [
    "train_loader = DataLoader(PhraseDataset('processed/train.csv'), batch_size=32, shuffle=True)\n",
    "val_loader = DataLoader(PhraseDataset('processed/valid.csv'), batch_size=32, shuffle=False)\n",
    "test_loader = DataLoader(PhraseDataset('processed/test.csv'), batch_size=32, shuffle=False)"
   ]
  },
  {
   "cell_type": "markdown",
   "metadata": {},
   "source": [
    "# Set up Model, Loss function and Optimizer"
   ]
  },
  {
   "cell_type": "code",
   "execution_count": 12,
   "metadata": {},
   "outputs": [
    {
     "name": "stderr",
     "output_type": "stream",
     "text": [
      "Some weights of the model checkpoint at bert-base-uncased were not used when initializing BertModel: ['cls.predictions.transform.dense.weight', 'cls.predictions.transform.LayerNorm.weight', 'cls.predictions.transform.dense.bias', 'cls.predictions.decoder.weight', 'cls.predictions.bias', 'cls.seq_relationship.weight', 'cls.predictions.transform.LayerNorm.bias', 'cls.seq_relationship.bias']\n",
      "- This IS expected if you are initializing BertModel from the checkpoint of a model trained on another task or with another architecture (e.g. initializing a BertForSequenceClassification model from a BertForPreTraining model).\n",
      "- This IS NOT expected if you are initializing BertModel from the checkpoint of a model that you expect to be exactly identical (initializing a BertForSequenceClassification model from a BertForSequenceClassification model).\n"
     ]
    }
   ],
   "source": [
    "model = SimilarityModel(bert_pretrained)\n",
    "loss = torch.nn.MSELoss()\n",
    "optimizer = torch.optim.Adam(model.parameters(), lr=1e-5)\n",
    "device = torch.device('mps' if torch.backends.mps.is_available() else 'cpu')\n",
    "tokenizer = AutoTokenizer.from_pretrained(bert_pretrained)"
   ]
  },
  {
   "cell_type": "markdown",
   "metadata": {},
   "source": [
    "# Train Model"
   ]
  },
  {
   "cell_type": "code",
   "execution_count": 13,
   "metadata": {},
   "outputs": [
    {
     "name": "stdout",
     "output_type": "stream",
     "text": [
      "Epoch: 0, Average Train Loss: 0.04327274486422539\n",
      "Average Epoch Valid Loss: 0.04954118654131889\n",
      "Epoch: 1, Average Train Loss: 0.03755366429686546\n",
      "Average Epoch Valid Loss: 0.044957973062992096\n",
      "Epoch: 2, Average Train Loss: 0.033528756350278854\n",
      "Average Epoch Valid Loss: 0.04191714897751808\n"
     ]
    }
   ],
   "source": [
    "from transformer_class import train\n",
    "train_logs, valid_logs, model = train(model, tokenizer, train_loader, val_loader, device, optimizer, loss, 3)"
   ]
  },
  {
   "cell_type": "code",
   "execution_count": 16,
   "metadata": {},
   "outputs": [],
   "source": [
    "import pickle\n",
    "import os\n",
    "version = 'v1.1_bert_base_SimilarityModel_MSE_Adam_1e-5_3epochs'\n",
    "os.mkdir('models/'+version+'/logs')\n",
    "torch.save(model.state_dict(), f'models/{version}/model.pth')\n",
    "# save logs\n",
    "with open(f'models/{version}/logs/train_logs.pkl', 'wb') as f:\n",
    "    pickle.dump(train_logs, f)\n",
    "with open(f'models/{version}/logs/valid_logs.pkl', 'wb') as f:\n",
    "    pickle.dump(valid_logs, f)"
   ]
  },
  {
   "cell_type": "markdown",
   "metadata": {},
   "source": [
    "# Evaluate Model"
   ]
  },
  {
   "cell_type": "markdown",
   "metadata": {},
   "source": []
  }
 ],
 "metadata": {
  "kernelspec": {
   "display_name": "Python 3.10.6",
   "language": "python",
   "name": "python3"
  },
  "language_info": {
   "codemirror_mode": {
    "name": "ipython",
    "version": 3
   },
   "file_extension": ".py",
   "mimetype": "text/x-python",
   "name": "python",
   "nbconvert_exporter": "python",
   "pygments_lexer": "ipython3",
   "version": "3.10.6"
  },
  "orig_nbformat": 4,
  "vscode": {
   "interpreter": {
    "hash": "4c803441a3ab990e41dff6cc1f66e0bde9ce6cfdac897f52f0b6ae076b6c1775"
   }
  }
 },
 "nbformat": 4,
 "nbformat_minor": 2
}
