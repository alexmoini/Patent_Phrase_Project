{
 "cells": [
  {
   "cell_type": "code",
   "execution_count": 1,
   "metadata": {},
   "outputs": [
    {
     "name": "stderr",
     "output_type": "stream",
     "text": [
      "/Users/alexandermoini/miniconda3/envs/patent-base/lib/python3.10/site-packages/tqdm/auto.py:22: TqdmWarning: IProgress not found. Please update jupyter and ipywidgets. See https://ipywidgets.readthedocs.io/en/stable/user_install.html\n",
      "  from .autonotebook import tqdm as notebook_tqdm\n"
     ]
    }
   ],
   "source": [
    "from transformer_class import SimilarityModel\n",
    "from data_utils import PhraseDataset\n",
    "from torch.utils.data import DataLoader\n",
    "from transformers import AutoTokenizer\n",
    "import torch\n",
    "bert_pretrained = 'bert-base-uncased'"
   ]
  },
  {
   "cell_type": "markdown",
   "metadata": {},
   "source": [
    "# Set up DataLoaders"
   ]
  },
  {
   "cell_type": "code",
   "execution_count": 2,
   "metadata": {},
   "outputs": [],
   "source": [
    "train_loader = DataLoader(PhraseDataset('processed/train.csv'), batch_size=32, shuffle=True)\n",
    "val_loader = DataLoader(PhraseDataset('processed/valid.csv'), batch_size=32, shuffle=False)\n",
    "test_loader = DataLoader(PhraseDataset('processed/test.csv'), batch_size=32, shuffle=False)"
   ]
  },
  {
   "cell_type": "markdown",
   "metadata": {},
   "source": [
    "# Set up Model, Loss function and Optimizer"
   ]
  },
  {
   "cell_type": "code",
   "execution_count": 3,
   "metadata": {},
   "outputs": [
    {
     "name": "stderr",
     "output_type": "stream",
     "text": [
      "Some weights of the model checkpoint at bert-base-uncased were not used when initializing BertModel: ['cls.seq_relationship.bias', 'cls.seq_relationship.weight', 'cls.predictions.transform.LayerNorm.bias', 'cls.predictions.decoder.weight', 'cls.predictions.transform.dense.bias', 'cls.predictions.bias', 'cls.predictions.transform.dense.weight', 'cls.predictions.transform.LayerNorm.weight']\n",
      "- This IS expected if you are initializing BertModel from the checkpoint of a model trained on another task or with another architecture (e.g. initializing a BertForSequenceClassification model from a BertForPreTraining model).\n",
      "- This IS NOT expected if you are initializing BertModel from the checkpoint of a model that you expect to be exactly identical (initializing a BertForSequenceClassification model from a BertForSequenceClassification model).\n"
     ]
    }
   ],
   "source": [
    "model = SimilarityModel(bert_pretrained)\n",
    "loss = torch.nn.MSELoss()\n",
    "optimizer = torch.optim.Adam(model.parameters(), lr=1e-5)\n",
    "device = torch.device('mps' if torch.backends.mps.is_available() else 'cpu')\n",
    "tokenizer = AutoTokenizer.from_pretrained(bert_pretrained)"
   ]
  },
  {
   "cell_type": "markdown",
   "metadata": {},
   "source": [
    "# Train Model"
   ]
  },
  {
   "cell_type": "code",
   "execution_count": 4,
   "metadata": {},
   "outputs": [
    {
     "name": "stdout",
     "output_type": "stream",
     "text": [
      "<class 'transformers.modeling_outputs.BaseModelOutputWithPoolingAndCrossAttentions'>\n",
      "<class 'torch.Tensor'>\n"
     ]
    },
    {
     "ename": "TypeError",
     "evalue": "SimilarityModel.mean_pooling() takes 2 positional arguments but 3 were given",
     "output_type": "error",
     "traceback": [
      "\u001b[0;31m---------------------------------------------------------------------------\u001b[0m",
      "\u001b[0;31mTypeError\u001b[0m                                 Traceback (most recent call last)",
      "\u001b[1;32m/Users/alexandermoini/CSCI6118/Patent_Phrase_Project/transformer_exp.ipynb Cell 7\u001b[0m in \u001b[0;36m<cell line: 2>\u001b[0;34m()\u001b[0m\n\u001b[1;32m      <a href='vscode-notebook-cell:/Users/alexandermoini/CSCI6118/Patent_Phrase_Project/transformer_exp.ipynb#X12sZmlsZQ%3D%3D?line=0'>1</a>\u001b[0m \u001b[39mfrom\u001b[39;00m \u001b[39mtransformer_class\u001b[39;00m \u001b[39mimport\u001b[39;00m train\n\u001b[0;32m----> <a href='vscode-notebook-cell:/Users/alexandermoini/CSCI6118/Patent_Phrase_Project/transformer_exp.ipynb#X12sZmlsZQ%3D%3D?line=1'>2</a>\u001b[0m train(model, tokenizer, train_loader, val_loader, device, optimizer, loss, \u001b[39m3\u001b[39;49m)\n",
      "File \u001b[0;32m~/CSCI6118/Patent_Phrase_Project/transformer_class.py:50\u001b[0m, in \u001b[0;36mtrain\u001b[0;34m(model, tokenizer, train_dataloader, valid_dataloader, device, optimizer, loss_function, epochs)\u001b[0m\n\u001b[1;32m     48\u001b[0m model\u001b[39m.\u001b[39mto(device)\n\u001b[1;32m     49\u001b[0m optimizer\u001b[39m.\u001b[39mzero_grad()\n\u001b[0;32m---> 50\u001b[0m output \u001b[39m=\u001b[39m model(anchor_input_ids, anchor_attention_mask, target_input_ids, target_attention_mask)\n\u001b[1;32m     51\u001b[0m loss \u001b[39m=\u001b[39m loss_function(output, label)\n\u001b[1;32m     52\u001b[0m train_loss\u001b[39m.\u001b[39mappend(loss\u001b[39m.\u001b[39mdetach()\u001b[39m.\u001b[39mcpu()\u001b[39m.\u001b[39mnumpy())\n",
      "File \u001b[0;32m~/miniconda3/envs/patent-base/lib/python3.10/site-packages/torch/nn/modules/module.py:1130\u001b[0m, in \u001b[0;36mModule._call_impl\u001b[0;34m(self, *input, **kwargs)\u001b[0m\n\u001b[1;32m   1126\u001b[0m \u001b[39m# If we don't have any hooks, we want to skip the rest of the logic in\u001b[39;00m\n\u001b[1;32m   1127\u001b[0m \u001b[39m# this function, and just call forward.\u001b[39;00m\n\u001b[1;32m   1128\u001b[0m \u001b[39mif\u001b[39;00m \u001b[39mnot\u001b[39;00m (\u001b[39mself\u001b[39m\u001b[39m.\u001b[39m_backward_hooks \u001b[39mor\u001b[39;00m \u001b[39mself\u001b[39m\u001b[39m.\u001b[39m_forward_hooks \u001b[39mor\u001b[39;00m \u001b[39mself\u001b[39m\u001b[39m.\u001b[39m_forward_pre_hooks \u001b[39mor\u001b[39;00m _global_backward_hooks\n\u001b[1;32m   1129\u001b[0m         \u001b[39mor\u001b[39;00m _global_forward_hooks \u001b[39mor\u001b[39;00m _global_forward_pre_hooks):\n\u001b[0;32m-> 1130\u001b[0m     \u001b[39mreturn\u001b[39;00m forward_call(\u001b[39m*\u001b[39;49m\u001b[39minput\u001b[39;49m, \u001b[39m*\u001b[39;49m\u001b[39m*\u001b[39;49mkwargs)\n\u001b[1;32m   1131\u001b[0m \u001b[39m# Do not call functions when jit is used\u001b[39;00m\n\u001b[1;32m   1132\u001b[0m full_backward_hooks, non_full_backward_hooks \u001b[39m=\u001b[39m [], []\n",
      "File \u001b[0;32m~/CSCI6118/Patent_Phrase_Project/transformer_class.py:23\u001b[0m, in \u001b[0;36mSimilarityModel.forward\u001b[0;34m(self, anchor_input_ids, anchor_attention_mask, target_input_ids, target_attention_mask)\u001b[0m\n\u001b[1;32m     20\u001b[0m \u001b[39mprint\u001b[39m(\u001b[39mtype\u001b[39m(anchor_attention_mask))\n\u001b[1;32m     22\u001b[0m \u001b[39m# mean pooling\u001b[39;00m\n\u001b[0;32m---> 23\u001b[0m anchor_pooled_output \u001b[39m=\u001b[39m \u001b[39mself\u001b[39;49m\u001b[39m.\u001b[39;49mmean_pooling(encoded_anchor, anchor_attention_mask)\n\u001b[1;32m     24\u001b[0m target_pooled_output \u001b[39m=\u001b[39m \u001b[39mself\u001b[39m\u001b[39m.\u001b[39mmean_pooling(encoded_target, target_attention_mask)\n\u001b[1;32m     25\u001b[0m \u001b[39m# normalize\u001b[39;00m\n",
      "\u001b[0;31mTypeError\u001b[0m: SimilarityModel.mean_pooling() takes 2 positional arguments but 3 were given"
     ]
    }
   ],
   "source": [
    "from transformer_class import train\n",
    "train(model, tokenizer, train_loader, val_loader, device, optimizer, loss, 3)"
   ]
  },
  {
   "cell_type": "markdown",
   "metadata": {},
   "source": [
    "# Evaluate Model"
   ]
  },
  {
   "cell_type": "markdown",
   "metadata": {},
   "source": []
  }
 ],
 "metadata": {
  "kernelspec": {
   "display_name": "Python 3.10.6",
   "language": "python",
   "name": "python3"
  },
  "language_info": {
   "codemirror_mode": {
    "name": "ipython",
    "version": 3
   },
   "file_extension": ".py",
   "mimetype": "text/x-python",
   "name": "python",
   "nbconvert_exporter": "python",
   "pygments_lexer": "ipython3",
   "version": "3.10.6"
  },
  "orig_nbformat": 4,
  "vscode": {
   "interpreter": {
    "hash": "4c803441a3ab990e41dff6cc1f66e0bde9ce6cfdac897f52f0b6ae076b6c1775"
   }
  }
 },
 "nbformat": 4,
 "nbformat_minor": 2
}
